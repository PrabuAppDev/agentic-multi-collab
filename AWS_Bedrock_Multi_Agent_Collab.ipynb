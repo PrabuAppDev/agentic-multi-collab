{
 "cells": [
  {
   "cell_type": "code",
   "execution_count": 45,
   "id": "e032e673-876f-4f3a-bf71-d63cc82bfff7",
   "metadata": {},
   "outputs": [
    {
     "name": "stderr",
     "output_type": "stream",
     "text": [
      "2024-12-26 13:03:43,695 - INFO - Found credentials in shared credentials file: ~/.aws/credentials\n",
      "2024-12-26 13:03:44,025 - INFO - AWS bedrock-agent-runtime initialized successfully using profile 'AWS_PROFILE_CLI'.\n"
     ]
    }
   ],
   "source": [
    "# Import necessary libraries\n",
    "import boto3\n",
    "import logging\n",
    "\n",
    "# Configure logging\n",
    "logging.basicConfig(level=logging.INFO, format=\"%(asctime)s - %(levelname)s - %(message)s\")\n",
    "\n",
    "# Specify the AWS CLI profile to use\n",
    "AWS_PROFILE = \"AWS_PROFILE_CLI\"\n",
    "\n",
    "# Initialize a session using the specified profile\n",
    "# Specify the region explicitly when initializing the session\n",
    "session = boto3.Session(profile_name=AWS_PROFILE, \n",
    "                        region_name=\"us-east-2\")  # Replace with the correct region\n",
    "\n",
    "# Create the correct Bedrock client and perform an API call\n",
    "try:\n",
    "    # Use 'bedrock' for management APIs (e.g., listing models)\n",
    "    bedrock_agent_runtime = session.client(\"bedrock-agent-runtime\")\n",
    "    logging.info(\"AWS bedrock-agent-runtime initialized successfully using profile '%s'.\", AWS_PROFILE)\n",
    "except Exception as e:\n",
    "    logging.error(\"Failed to interact with Bedrock client: %s\", str(e))"
   ]
  },
  {
   "cell_type": "code",
   "execution_count": null,
   "id": "833f7e69-487f-4bb0-bf11-61087a75aa06",
   "metadata": {},
   "outputs": [],
   "source": [
    "# !pip install qdrant-client pdfplumber sentence-transformers"
   ]
  },
  {
   "cell_type": "code",
   "execution_count": 3,
   "id": "d3bbabb9-8854-494a-b91e-3998e0967cdb",
   "metadata": {},
   "outputs": [
    {
     "name": "stderr",
     "output_type": "stream",
     "text": [
      "2024-12-26 11:49:06,722 - INFO - Initialized Qdrant in-memory client successfully.\n"
     ]
    }
   ],
   "source": [
    "from qdrant_client import QdrantClient\n",
    "\n",
    "# Initialize Qdrant client in-memory\n",
    "client = QdrantClient(\":memory:\")\n",
    "\n",
    "# Logging\n",
    "import logging\n",
    "logging.info(\"Initialized Qdrant in-memory client successfully.\")"
   ]
  },
  {
   "cell_type": "code",
   "execution_count": null,
   "id": "c152b63a-2b46-478f-8ff3-6dd4e0eb57b4",
   "metadata": {},
   "outputs": [],
   "source": [
    "import pdfplumber\n",
    "import logging\n",
    "import time\n",
    "\n",
    "# Configure logging to include page numbers and timing\n",
    "logging.basicConfig(level=logging.INFO, format=\"%(asctime)s - %(levelname)s - %(message)s\")\n",
    "\n",
    "# Function to extract text from a PDF with enhanced logging\n",
    "def extract_pdf_text_with_logging(pdf_path):\n",
    "    with pdfplumber.open(pdf_path) as pdf:\n",
    "        text = \"\"\n",
    "        total_pages = len(pdf.pages)\n",
    "        logging.info(\"PDF contains %d pages. Starting extraction...\", total_pages)\n",
    "        \n",
    "        for i, page in enumerate(pdf.pages):\n",
    "            logging.info(\"Starting processing for page %d...\", i + 1)\n",
    "            start_time = time.time()  # Track start time\n",
    "            \n",
    "            try:\n",
    "                page_text = page.extract_text()\n",
    "                if page_text:\n",
    "                    text += page_text + \"\\n\"\n",
    "                    end_time = time.time()  # Track end time\n",
    "                    logging.info(\n",
    "                        \"Successfully processed page %d of %d. Characters extracted: %d. Time taken: %.2f seconds.\",\n",
    "                        i + 1, total_pages, len(page_text), end_time - start_time\n",
    "                    )\n",
    "                else:\n",
    "                    logging.warning(\"No text found on page %d of %d.\", i + 1, total_pages)\n",
    "            except Exception as e:\n",
    "                logging.error(\"Failed to process page %d: %s\", i + 1, str(e))\n",
    "        logging.info(\"PDF text extraction complete.\")\n",
    "    return text\n",
    "\n",
    "# Path to your PDF file\n",
    "pdf_path = \"mdx_dashboard_assist/agent-2022-acura-mdx-owner-manual/2022-acura_mdx_manual.pdf\"\n",
    "\n",
    "# Extract text with progress logging\n",
    "try:\n",
    "    manual_text = extract_pdf_text_with_logging(pdf_path)\n",
    "    logging.info(\"Text extraction finished.\")\n",
    "except Exception as e:\n",
    "    logging.error(\"Failed to extract text from PDF: %s\", str(e))"
   ]
  },
  {
   "cell_type": "code",
   "execution_count": 12,
   "id": "fc7cd5fe-853b-4a22-ade9-26bc2f974080",
   "metadata": {},
   "outputs": [
    {
     "name": "stderr",
     "output_type": "stream",
     "text": [
      "2024-12-26 12:11:34,523 - INFO - Text divided into 277 chunks.\n"
     ]
    }
   ],
   "source": [
    "# Function to split text into smaller chunks\n",
    "def chunk_text(text, chunk_size=500):\n",
    "    words = text.split()\n",
    "    chunks = []\n",
    "    for i in range(0, len(words), chunk_size):\n",
    "        chunks.append(\" \".join(words[i:i + chunk_size]))\n",
    "    return chunks\n",
    "\n",
    "# Generate chunks from manual_text\n",
    "try:\n",
    "    chunks = chunk_text(manual_text)  # Use manual_text instead of manual_data\n",
    "    logging.info(\"Text divided into %d chunks.\", len(chunks))\n",
    "except Exception as e:\n",
    "    logging.error(\"Failed to chunk the text: %s\", str(e))"
   ]
  },
  {
   "cell_type": "code",
   "execution_count": null,
   "id": "0cdfab0c-391a-4ee3-89c3-a61517f9f555",
   "metadata": {},
   "outputs": [],
   "source": [
    "from sentence_transformers import SentenceTransformer\n",
    "\n",
    "# Initialize the embedding model\n",
    "try:\n",
    "    model = SentenceTransformer(\"all-MiniLM-L6-v2\")\n",
    "    logging.info(\"Embedding model loaded successfully.\")\n",
    "except Exception as e:\n",
    "    logging.error(\"Failed to load embedding model: %s\", str(e))\n",
    "\n",
    "# Generate embeddings for all chunks\n",
    "try:\n",
    "    embeddings = [model.encode(chunk) for chunk in chunks]\n",
    "    logging.info(\"Generated embeddings for all %d chunks.\", len(embeddings))\n",
    "except Exception as e:\n",
    "    logging.error(\"Failed to generate embeddings: %s\", str(e))"
   ]
  },
  {
   "cell_type": "code",
   "execution_count": 16,
   "id": "51e44684-b94f-4ce7-95d7-7df77e898f77",
   "metadata": {},
   "outputs": [
    {
     "name": "stderr",
     "output_type": "stream",
     "text": [
      "2024-12-26 12:15:13,116 - INFO - Qdrant collection 'acura_manual' already exists.\n"
     ]
    }
   ],
   "source": [
    "# Check if collection exists and create it if not\n",
    "from qdrant_client.models import VectorParams\n",
    "\n",
    "collection_name = \"acura_manual\"\n",
    "\n",
    "try:\n",
    "    if not client.collection_exists(collection_name=collection_name):\n",
    "        client.create_collection(\n",
    "            collection_name=collection_name,\n",
    "            vectors_config=VectorParams(\n",
    "                size=len(embeddings[0]),  # Embedding dimensionality\n",
    "                distance=\"Cosine\"  # Similarity metric\n",
    "            )\n",
    "        )\n",
    "        logging.info(\"Qdrant collection '%s' created successfully.\", collection_name)\n",
    "    else:\n",
    "        logging.info(\"Qdrant collection '%s' already exists.\", collection_name)\n",
    "except Exception as e:\n",
    "    logging.error(\"Failed to create or verify Qdrant collection: %s\", str(e))"
   ]
  },
  {
   "cell_type": "code",
   "execution_count": 19,
   "id": "39b8d710-e62f-43a6-a8aa-55016a0979d9",
   "metadata": {},
   "outputs": [
    {
     "name": "stderr",
     "output_type": "stream",
     "text": [
      "2024-12-26 12:18:04,465 - INFO - Successfully stored embeddings and chunks with page numbers in Qdrant.\n"
     ]
    }
   ],
   "source": [
    "# Upload embeddings and chunks with page numbers to Qdrant\n",
    "try:\n",
    "    points = [\n",
    "        PointStruct(\n",
    "            id=i,\n",
    "            vector=embeddings[i],\n",
    "            payload={\n",
    "                \"text\": chunks[i],  # The chunked text\n",
    "                \"page\": i + 1       # Dummy page number (update if actual page numbers are available)\n",
    "            }\n",
    "        ) for i in range(len(chunks))\n",
    "    ]\n",
    "    client.upsert(collection_name=collection_name, points=points)\n",
    "    logging.info(\"Successfully stored embeddings and chunks with page numbers in Qdrant.\")\n",
    "except Exception as e:\n",
    "    logging.error(\"Failed to upload data to Qdrant: %s\", str(e))"
   ]
  },
  {
   "cell_type": "code",
   "execution_count": null,
   "id": "79905a48-3f15-4d34-9cdc-5c8098ff3723",
   "metadata": {},
   "outputs": [],
   "source": [
    "# Function to query Qdrant for relevant chunks with page numbers\n",
    "def query_qdrant_with_pages(query, collection_name, top_k=3):\n",
    "    try:\n",
    "        # Generate embedding for the query\n",
    "        query_embedding = model.encode(query)\n",
    "        \n",
    "        # Perform similarity search\n",
    "        search_results = client.search(\n",
    "            collection_name=collection_name,\n",
    "            query_vector=query_embedding,\n",
    "            limit=top_k  # Number of results to return\n",
    "        )\n",
    "        \n",
    "        # Display the results\n",
    "        for result in search_results:\n",
    "            logging.info(\n",
    "                \"Score: %.4f, Page: %d, Text: %s\",\n",
    "                result.score, result.payload.get(\"page\", -1), result.payload[\"text\"]\n",
    "            )\n",
    "        return search_results\n",
    "    except Exception as e:\n",
    "        logging.error(\"Failed to query Qdrant: %s\", str(e))\n",
    "        return []\n",
    "\n",
    "# Example query\n",
    "user_query = \"What to do when the tire pressure is low?\"\n",
    "\n",
    "# Query Qdrant and retrieve results\n",
    "results = query_qdrant_with_pages(user_query, collection_name=\"acura_manual\")"
   ]
  },
  {
   "cell_type": "code",
   "execution_count": 57,
   "id": "90a69ef5-7cd8-4857-a42d-880849b312ca",
   "metadata": {},
   "outputs": [
    {
     "data": {
      "text/html": [
       "<img src=\"data:image/jpeg;base64,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\"/>"
      ],
      "text/plain": [
       "<IPython.core.display.Image object>"
      ]
     },
     "execution_count": 57,
     "metadata": {},
     "output_type": "execute_result"
    }
   ],
   "source": [
    "from IPython.display import Image\n",
    "import base64\n",
    "\n",
    "# Path to the image file\n",
    "image_path = \"mdx_dashboard_assist/2024-12-12-Dashboard-1.jpeg\"\n",
    "\n",
    "# Encode the image in Base64\n",
    "with open(image_path, \"rb\") as image_file:\n",
    "    image_base64 = base64.b64encode(image_file.read()).decode(\"utf-8\")\n",
    "\n",
    "# Create a data URI for the image\n",
    "data_uri = f\"data:image/jpeg;base64,{image_base64}\"\n",
    "\n",
    "# Display the image in the notebook\n",
    "Image(url=data_uri)"
   ]
  },
  {
   "cell_type": "code",
   "execution_count": 27,
   "id": "01cbd753-23c1-4b7e-be85-e36d2a1fb3ad",
   "metadata": {},
   "outputs": [
    {
     "name": "stderr",
     "output_type": "stream",
     "text": [
      "2024-12-26 12:37:18,253 - INFO - Image successfully encoded to Base64.\n",
      "2024-12-26 12:37:18,254 - ERROR - Failed to invoke Bedrock agent: 'Bedrock' object has no attribute 'invoke_model'\n"
     ]
    }
   ],
   "source": [
    "import base64\n",
    "import logging\n",
    "\n",
    "# # Path to the image file\n",
    "# image_path = \"mdx_dashboard_assist/2024-12-12-Dashboard-1.jpeg\"\n",
    "\n",
    "# Encode the image in Base64\n",
    "try:\n",
    "    with open(image_path, \"rb\") as image_file:\n",
    "        image_base64 = base64.b64encode(image_file.read()).decode(\"utf-8\")\n",
    "    logging.info(\"Image successfully encoded to Base64.\")\n",
    "except Exception as e:\n",
    "    logging.error(\"Failed to encode image to Base64: %s\", str(e))\n",
    "\n",
    "# Prepare the payload for the Bedrock agent\n",
    "payload = {\n",
    "    \"mode\": \"Initial-Analysis\",  # Specify the action mode\n",
    "    \"imageInput\": image_base64\n",
    "}\n",
    "\n",
    "# Invoke the Bedrock model\n",
    "try:\n",
    "    response = bedrock_client.invoke_model(\n",
    "        modelId=\"agent-2022-acura-mdx-owner-manual\",  # Replace with the correct model ID\n",
    "        contentType=\"application/json\",\n",
    "        accept=\"application/json\",\n",
    "        body=str(payload)  # Convert payload to JSON string\n",
    "    )\n",
    "    # Parse and log the response\n",
    "    response_text = response['body'].read().decode('utf-8')\n",
    "    logging.info(\"Initial analysis response from Bedrock: %s\", response_text)\n",
    "except Exception as e:\n",
    "    logging.error(\"Failed to invoke Bedrock agent: %s\", str(e))"
   ]
  },
  {
   "cell_type": "code",
   "execution_count": 70,
   "id": "4ef30d98-de11-42f1-b9cb-22bf4d9ad978",
   "metadata": {},
   "outputs": [],
   "source": [
    "# Prepare the payload for interacting with the Bedrock agent\n",
    "interaction_payload = {\n",
    "    \"mode\": \"Initial-Analysis\",  # Specify the action mode\n",
    "    \"imageInput\": image_base64,  # Base64-encoded image\n",
    "    \"textInput\" : \" Output should be a JSON response conforming to the OAS with no extra test outside the OAS/JSON structure\"\n",
    "}"
   ]
  },
  {
   "cell_type": "code",
   "execution_count": null,
   "id": "00a2f7bf-edba-4a5f-9c62-3d143978d1a0",
   "metadata": {},
   "outputs": [],
   "source": [
    "import os\n",
    "import json\n",
    "import logging\n",
    "\n",
    "# Fetch Agent ID and Alias ID from environment variables\n",
    "agent_id = os.getenv(\"AWS_BEDROCK_AGENT_ID\")\n",
    "alias_id = os.getenv(\"AWS_BEDROCK_AGENT_ALIAS_ID\")\n",
    "\n",
    "# Debug: Print environment variables for verification #REMOVE\n",
    "# print(f\"Agent ID: {agent_id}\")\n",
    "# print(f\"Alias ID: {alias_id}\")\n",
    "\n",
    "# Check if environment variables are set\n",
    "if not agent_id or not alias_id:\n",
    "    raise ValueError(\"Environment variables AWS_BEDROCK_AGENT_ID and AWS_BEDROCK_AGENT_ALIAS_ID must be set.\")\n",
    "\n",
    "# Prepare the interaction payload\n",
    "interaction_payload = {\n",
    "    \"mode\": \"Initial-Analysis\",  # Specify the action mode\n",
    "    \"imageInput\": image_base64  # Base64-encoded image\n",
    "}\n",
    "\n",
    "# # Debug: Print the payload for verification\n",
    "# print(\"Payload to be sent to the Bedrock agent:\")\n",
    "# print(json.dumps(interaction_payload, indent=2))\n",
    "\n",
    "# Interact with the Bedrock agent\n",
    "try:\n",
    "    agent_response = bedrock_agent_runtime.invoke_agent(\n",
    "        agentId=agent_id,\n",
    "        agentAliasId=alias_id,\n",
    "        sessionId=\"test-session\",\n",
    "        inputText=json.dumps(interaction_payload)  # Pass the payload as JSON string\n",
    "    )\n",
    "\n",
    "    # Parse and process the EventStream\n",
    "    completion_stream = agent_response['completion']\n",
    "    print(\"Processing EventStream from the agent...\")\n",
    "    print(agent_response)\n",
    "    for event in completion_stream:\n",
    "        print(f\"Event structure: {event}\")\n",
    "\n",
    "\n",
    "    # Collect raw JSON responses\n",
    "    raw_json_responses = []\n",
    "\n",
    "    # Iterate over the streamed response\n",
    "    for event in completion_stream:\n",
    "        if 'payload' in event:\n",
    "            payload = event['payload'].decode('utf-8')\n",
    "            try:\n",
    "                json_data = json.loads(payload)\n",
    "                raw_json_responses.append(json_data)\n",
    "            except json.JSONDecodeError:\n",
    "                print(f\"Error: Could not parse JSON from payload: {payload}\")\n",
    "        else:\n",
    "            print(\"Unexpected event structure:\")\n",
    "            print(event)\n",
    "\n",
    "    # Print the collected raw JSON responses\n",
    "    if raw_json_responses:\n",
    "        print(\"Full API Response JSON:\")\n",
    "        for response in raw_json_responses:\n",
    "            print(json.dumps(response, indent=2))\n",
    "    else:\n",
    "        print(\"No JSON responses found in the EventStream.\")\n",
    "\n",
    "except Exception as e:\n",
    "    logging.error(\"Failed to interact with Bedrock agent: %s\", str(e))\n",
    "    raise"
   ]
  }
 ],
 "metadata": {
  "kernelspec": {
   "display_name": "Python 3 (ipykernel)",
   "language": "python",
   "name": "python3"
  },
  "language_info": {
   "codemirror_mode": {
    "name": "ipython",
    "version": 3
   },
   "file_extension": ".py",
   "mimetype": "text/x-python",
   "name": "python",
   "nbconvert_exporter": "python",
   "pygments_lexer": "ipython3",
   "version": "3.12.7"
  }
 },
 "nbformat": 4,
 "nbformat_minor": 5
}
